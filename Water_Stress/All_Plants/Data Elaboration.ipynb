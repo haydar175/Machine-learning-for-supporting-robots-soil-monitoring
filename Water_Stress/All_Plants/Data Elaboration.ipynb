{
 "cells": [
  {
   "cell_type": "code",
   "execution_count": 111,
   "metadata": {},
   "outputs": [
    {
     "name": "stdout",
     "output_type": "stream",
     "text": [
      "data (2688, 400)\n",
      "labels (2688,)\n",
      "\n"
     ]
    }
   ],
   "source": [
    "import numpy as np\n",
    "import pandas as pd\n",
    "import os\n",
    "import random\n",
    "from sklearn.linear_model import LogisticRegression\n",
    "from sklearn.preprocessing import StandardScaler, MinMaxScaler\n",
    "from sklearn.model_selection import train_test_split, GridSearchCV\n",
    "from sklearn.metrics import accuracy_score, classification_report\n",
    "\n",
    "# Paths to data folders for different classes\n",
    "folder_paths = [\n",
    "    'C:/Users/halhajali/OneDrive - Fondazione Istituto Italiano Tecnologia/Desktop/IIT-UNIBZ/Dataset/Water-Stress/Late/',\n",
    "     'C:/Users/halhajali/OneDrive - Fondazione Istituto Italiano Tecnologia/Desktop/IIT-UNIBZ/Dataset/Water-Stress/Early/',\n",
    "     'C:/Users/halhajali/OneDrive - Fondazione Istituto Italiano Tecnologia/Desktop/IIT-UNIBZ/Dataset/Water-Stress/Control/',\n",
    "]\n",
    "\n",
    "random.seed(42)\n",
    "np.random.seed(42)\n",
    "\n",
    "\n",
    "\n",
    "plants = ['plant0', 'plant1', 'plant2', 'plant3']\n",
    "\n",
    "# Load data from all folders\n",
    "def load_plant_data():\n",
    "    all_data = []\n",
    "    labels = []\n",
    "    \n",
    "    for label, folder_path in enumerate(folder_paths):\n",
    "        for plant in plants:\n",
    "            plant_folder = os.path.join(folder_path, plant)\n",
    "            for filename in os.listdir(plant_folder):\n",
    "                if filename.endswith('.csv'):\n",
    "                    file_path = os.path.join(plant_folder, filename)\n",
    "                    sample = pd.read_csv(file_path, header=None)\n",
    "                    data = np.array(sample)[:, [3,4]].flatten()\n",
    "                    all_data.append(data) \n",
    "                    labels.append(label)    \n",
    "    \n",
    "    return np.array(all_data), np.array(labels)\n",
    "\n",
    "\n",
    "# Load data\n",
    "X, y = load_plant_data()\n",
    "print(\"data\", X.shape)\n",
    "print(\"labels\", y.shape)\n",
    "print(\"\")"
   ]
  },
  {
   "cell_type": "code",
   "execution_count": 112,
   "metadata": {},
   "outputs": [
    {
     "name": "stdout",
     "output_type": "stream",
     "text": [
      "Training set (1881, 400)\n",
      "Training labels (1881,)\n",
      "Testing set (403, 400)\n",
      "Testing labels (403,)\n",
      "val set (404, 400)\n",
      "val labels (404,)\n",
      "{0: 627, 1: 627, 2: 627}\n",
      "{0: 134, 1: 135, 2: 135}\n",
      "{0: 135, 1: 134, 2: 134}\n"
     ]
    }
   ],
   "source": [
    "X_train, X_test, y_train, y_test = train_test_split(X, y, test_size=0.3, random_state=42, stratify=y)\n",
    "\n",
    "print(\"Training set\", X_train.shape)\n",
    "print(\"Training labels\", y_train.shape)\n",
    "\n",
    "X_test, X_val, y_test, y_val = train_test_split(X_test, y_test, test_size=0.50, random_state=42, stratify=y_test)\n",
    "\n",
    "print(\"Testing set\", X_test.shape)\n",
    "print(\"Testing labels\", y_test.shape)\n",
    "\n",
    "print(\"val set\", X_val.shape)\n",
    "print(\"val labels\", y_val.shape)\n",
    "\n",
    "\n",
    "def get_class_distribution(y):\n",
    "    unique, counts = np.unique(y, return_counts=True)\n",
    "    return dict(zip(unique, counts))\n",
    "\n",
    "train_distribution = get_class_distribution(y_train)\n",
    "val_distribution = get_class_distribution(y_val)\n",
    "test_distribution = get_class_distribution(y_test)\n",
    "print(train_distribution)\n",
    "print(val_distribution)\n",
    "print(test_distribution)\n",
    "\n",
    "\n",
    "X_train_reshaped = X_train.reshape(X_train.shape[0], -1)\n",
    "X_val_reshaped = X_val.reshape(X_val.shape[0], -1)\n",
    "X_test_reshaped = X_test.reshape(X_test.shape[0], -1)\n",
    "\n",
    "scaler = MinMaxScaler()\n",
    "X_train_scaled = scaler.fit_transform(X_train_reshaped)\n",
    "X_val_scaled = scaler.transform(X_val_reshaped)\n",
    "X_test_scaled = scaler.transform(X_test_reshaped)"
   ]
  },
  {
   "cell_type": "code",
   "execution_count": 113,
   "metadata": {},
   "outputs": [
    {
     "name": "stdout",
     "output_type": "stream",
     "text": [
      "Validation Accuracy (l1_ratio=0.1, C=0.1): 0.8812\n",
      "Validation Accuracy (l1_ratio=0.1, C=1): 0.9257\n",
      "Validation Accuracy (l1_ratio=0.1, C=5): 0.9332\n"
     ]
    },
    {
     "name": "stderr",
     "output_type": "stream",
     "text": [
      "c:\\Users\\halhajali\\AppData\\Local\\anaconda3\\Lib\\site-packages\\sklearn\\linear_model\\_sag.py:350: ConvergenceWarning: The max_iter was reached which means the coef_ did not converge\n",
      "  warnings.warn(\n"
     ]
    },
    {
     "name": "stdout",
     "output_type": "stream",
     "text": [
      "Validation Accuracy (l1_ratio=0.1, C=20): 0.9356\n"
     ]
    },
    {
     "name": "stderr",
     "output_type": "stream",
     "text": [
      "c:\\Users\\halhajali\\AppData\\Local\\anaconda3\\Lib\\site-packages\\sklearn\\linear_model\\_sag.py:350: ConvergenceWarning: The max_iter was reached which means the coef_ did not converge\n",
      "  warnings.warn(\n"
     ]
    },
    {
     "name": "stdout",
     "output_type": "stream",
     "text": [
      "Validation Accuracy (l1_ratio=0.1, C=40): 0.9381\n"
     ]
    },
    {
     "name": "stderr",
     "output_type": "stream",
     "text": [
      "c:\\Users\\halhajali\\AppData\\Local\\anaconda3\\Lib\\site-packages\\sklearn\\linear_model\\_sag.py:350: ConvergenceWarning: The max_iter was reached which means the coef_ did not converge\n",
      "  warnings.warn(\n"
     ]
    },
    {
     "name": "stdout",
     "output_type": "stream",
     "text": [
      "Validation Accuracy (l1_ratio=0.1, C=10): 0.9356\n"
     ]
    },
    {
     "name": "stderr",
     "output_type": "stream",
     "text": [
      "c:\\Users\\halhajali\\AppData\\Local\\anaconda3\\Lib\\site-packages\\sklearn\\linear_model\\_sag.py:350: ConvergenceWarning: The max_iter was reached which means the coef_ did not converge\n",
      "  warnings.warn(\n"
     ]
    },
    {
     "name": "stdout",
     "output_type": "stream",
     "text": [
      "Validation Accuracy (l1_ratio=0.1, C=50): 0.9381\n"
     ]
    },
    {
     "name": "stderr",
     "output_type": "stream",
     "text": [
      "c:\\Users\\halhajali\\AppData\\Local\\anaconda3\\Lib\\site-packages\\sklearn\\linear_model\\_sag.py:350: ConvergenceWarning: The max_iter was reached which means the coef_ did not converge\n",
      "  warnings.warn(\n"
     ]
    },
    {
     "name": "stdout",
     "output_type": "stream",
     "text": [
      "Validation Accuracy (l1_ratio=0.1, C=100): 0.9381\n",
      "Validation Accuracy (l1_ratio=0.3, C=0.1): 0.8837\n",
      "Validation Accuracy (l1_ratio=0.3, C=1): 0.9282\n"
     ]
    },
    {
     "name": "stderr",
     "output_type": "stream",
     "text": [
      "c:\\Users\\halhajali\\AppData\\Local\\anaconda3\\Lib\\site-packages\\sklearn\\linear_model\\_sag.py:350: ConvergenceWarning: The max_iter was reached which means the coef_ did not converge\n",
      "  warnings.warn(\n"
     ]
    },
    {
     "name": "stdout",
     "output_type": "stream",
     "text": [
      "Validation Accuracy (l1_ratio=0.3, C=5): 0.9307\n"
     ]
    },
    {
     "name": "stderr",
     "output_type": "stream",
     "text": [
      "c:\\Users\\halhajali\\AppData\\Local\\anaconda3\\Lib\\site-packages\\sklearn\\linear_model\\_sag.py:350: ConvergenceWarning: The max_iter was reached which means the coef_ did not converge\n",
      "  warnings.warn(\n"
     ]
    },
    {
     "name": "stdout",
     "output_type": "stream",
     "text": [
      "Validation Accuracy (l1_ratio=0.3, C=20): 0.9356\n"
     ]
    },
    {
     "name": "stderr",
     "output_type": "stream",
     "text": [
      "c:\\Users\\halhajali\\AppData\\Local\\anaconda3\\Lib\\site-packages\\sklearn\\linear_model\\_sag.py:350: ConvergenceWarning: The max_iter was reached which means the coef_ did not converge\n",
      "  warnings.warn(\n"
     ]
    },
    {
     "name": "stdout",
     "output_type": "stream",
     "text": [
      "Validation Accuracy (l1_ratio=0.3, C=40): 0.9356\n"
     ]
    },
    {
     "name": "stderr",
     "output_type": "stream",
     "text": [
      "c:\\Users\\halhajali\\AppData\\Local\\anaconda3\\Lib\\site-packages\\sklearn\\linear_model\\_sag.py:350: ConvergenceWarning: The max_iter was reached which means the coef_ did not converge\n",
      "  warnings.warn(\n"
     ]
    },
    {
     "name": "stdout",
     "output_type": "stream",
     "text": [
      "Validation Accuracy (l1_ratio=0.3, C=10): 0.9356\n"
     ]
    },
    {
     "name": "stderr",
     "output_type": "stream",
     "text": [
      "c:\\Users\\halhajali\\AppData\\Local\\anaconda3\\Lib\\site-packages\\sklearn\\linear_model\\_sag.py:350: ConvergenceWarning: The max_iter was reached which means the coef_ did not converge\n",
      "  warnings.warn(\n"
     ]
    },
    {
     "name": "stdout",
     "output_type": "stream",
     "text": [
      "Validation Accuracy (l1_ratio=0.3, C=50): 0.9381\n"
     ]
    },
    {
     "name": "stderr",
     "output_type": "stream",
     "text": [
      "c:\\Users\\halhajali\\AppData\\Local\\anaconda3\\Lib\\site-packages\\sklearn\\linear_model\\_sag.py:350: ConvergenceWarning: The max_iter was reached which means the coef_ did not converge\n",
      "  warnings.warn(\n"
     ]
    },
    {
     "name": "stdout",
     "output_type": "stream",
     "text": [
      "Validation Accuracy (l1_ratio=0.3, C=100): 0.9381\n",
      "Validation Accuracy (l1_ratio=0.5, C=0.1): 0.8738\n",
      "Validation Accuracy (l1_ratio=0.5, C=1): 0.9332\n"
     ]
    },
    {
     "name": "stderr",
     "output_type": "stream",
     "text": [
      "c:\\Users\\halhajali\\AppData\\Local\\anaconda3\\Lib\\site-packages\\sklearn\\linear_model\\_sag.py:350: ConvergenceWarning: The max_iter was reached which means the coef_ did not converge\n",
      "  warnings.warn(\n"
     ]
    },
    {
     "name": "stdout",
     "output_type": "stream",
     "text": [
      "Validation Accuracy (l1_ratio=0.5, C=5): 0.9381\n"
     ]
    },
    {
     "name": "stderr",
     "output_type": "stream",
     "text": [
      "c:\\Users\\halhajali\\AppData\\Local\\anaconda3\\Lib\\site-packages\\sklearn\\linear_model\\_sag.py:350: ConvergenceWarning: The max_iter was reached which means the coef_ did not converge\n",
      "  warnings.warn(\n"
     ]
    },
    {
     "name": "stdout",
     "output_type": "stream",
     "text": [
      "Validation Accuracy (l1_ratio=0.5, C=20): 0.9356\n"
     ]
    },
    {
     "name": "stderr",
     "output_type": "stream",
     "text": [
      "c:\\Users\\halhajali\\AppData\\Local\\anaconda3\\Lib\\site-packages\\sklearn\\linear_model\\_sag.py:350: ConvergenceWarning: The max_iter was reached which means the coef_ did not converge\n",
      "  warnings.warn(\n"
     ]
    },
    {
     "name": "stdout",
     "output_type": "stream",
     "text": [
      "Validation Accuracy (l1_ratio=0.5, C=40): 0.9356\n"
     ]
    },
    {
     "name": "stderr",
     "output_type": "stream",
     "text": [
      "c:\\Users\\halhajali\\AppData\\Local\\anaconda3\\Lib\\site-packages\\sklearn\\linear_model\\_sag.py:350: ConvergenceWarning: The max_iter was reached which means the coef_ did not converge\n",
      "  warnings.warn(\n"
     ]
    },
    {
     "name": "stdout",
     "output_type": "stream",
     "text": [
      "Validation Accuracy (l1_ratio=0.5, C=10): 0.9356\n"
     ]
    },
    {
     "name": "stderr",
     "output_type": "stream",
     "text": [
      "c:\\Users\\halhajali\\AppData\\Local\\anaconda3\\Lib\\site-packages\\sklearn\\linear_model\\_sag.py:350: ConvergenceWarning: The max_iter was reached which means the coef_ did not converge\n",
      "  warnings.warn(\n"
     ]
    },
    {
     "name": "stdout",
     "output_type": "stream",
     "text": [
      "Validation Accuracy (l1_ratio=0.5, C=50): 0.9356\n"
     ]
    },
    {
     "name": "stderr",
     "output_type": "stream",
     "text": [
      "c:\\Users\\halhajali\\AppData\\Local\\anaconda3\\Lib\\site-packages\\sklearn\\linear_model\\_sag.py:350: ConvergenceWarning: The max_iter was reached which means the coef_ did not converge\n",
      "  warnings.warn(\n"
     ]
    },
    {
     "name": "stdout",
     "output_type": "stream",
     "text": [
      "Validation Accuracy (l1_ratio=0.5, C=100): 0.9381\n"
     ]
    },
    {
     "name": "stderr",
     "output_type": "stream",
     "text": [
      "c:\\Users\\halhajali\\AppData\\Local\\anaconda3\\Lib\\site-packages\\sklearn\\linear_model\\_sag.py:350: ConvergenceWarning: The max_iter was reached which means the coef_ did not converge\n",
      "  warnings.warn(\n"
     ]
    },
    {
     "name": "stdout",
     "output_type": "stream",
     "text": [
      "Validation Accuracy (l1_ratio=1, C=0.1): 0.8837\n"
     ]
    },
    {
     "name": "stderr",
     "output_type": "stream",
     "text": [
      "c:\\Users\\halhajali\\AppData\\Local\\anaconda3\\Lib\\site-packages\\sklearn\\linear_model\\_sag.py:350: ConvergenceWarning: The max_iter was reached which means the coef_ did not converge\n",
      "  warnings.warn(\n"
     ]
    },
    {
     "name": "stdout",
     "output_type": "stream",
     "text": [
      "Validation Accuracy (l1_ratio=1, C=1): 0.9332\n"
     ]
    },
    {
     "name": "stderr",
     "output_type": "stream",
     "text": [
      "c:\\Users\\halhajali\\AppData\\Local\\anaconda3\\Lib\\site-packages\\sklearn\\linear_model\\_sag.py:350: ConvergenceWarning: The max_iter was reached which means the coef_ did not converge\n",
      "  warnings.warn(\n"
     ]
    },
    {
     "name": "stdout",
     "output_type": "stream",
     "text": [
      "Validation Accuracy (l1_ratio=1, C=5): 0.9455\n"
     ]
    },
    {
     "name": "stderr",
     "output_type": "stream",
     "text": [
      "c:\\Users\\halhajali\\AppData\\Local\\anaconda3\\Lib\\site-packages\\sklearn\\linear_model\\_sag.py:350: ConvergenceWarning: The max_iter was reached which means the coef_ did not converge\n",
      "  warnings.warn(\n"
     ]
    },
    {
     "name": "stdout",
     "output_type": "stream",
     "text": [
      "Validation Accuracy (l1_ratio=1, C=20): 0.9356\n"
     ]
    },
    {
     "name": "stderr",
     "output_type": "stream",
     "text": [
      "c:\\Users\\halhajali\\AppData\\Local\\anaconda3\\Lib\\site-packages\\sklearn\\linear_model\\_sag.py:350: ConvergenceWarning: The max_iter was reached which means the coef_ did not converge\n",
      "  warnings.warn(\n"
     ]
    },
    {
     "name": "stdout",
     "output_type": "stream",
     "text": [
      "Validation Accuracy (l1_ratio=1, C=40): 0.9356\n"
     ]
    },
    {
     "name": "stderr",
     "output_type": "stream",
     "text": [
      "c:\\Users\\halhajali\\AppData\\Local\\anaconda3\\Lib\\site-packages\\sklearn\\linear_model\\_sag.py:350: ConvergenceWarning: The max_iter was reached which means the coef_ did not converge\n",
      "  warnings.warn(\n"
     ]
    },
    {
     "name": "stdout",
     "output_type": "stream",
     "text": [
      "Validation Accuracy (l1_ratio=1, C=10): 0.9381\n"
     ]
    },
    {
     "name": "stderr",
     "output_type": "stream",
     "text": [
      "c:\\Users\\halhajali\\AppData\\Local\\anaconda3\\Lib\\site-packages\\sklearn\\linear_model\\_sag.py:350: ConvergenceWarning: The max_iter was reached which means the coef_ did not converge\n",
      "  warnings.warn(\n"
     ]
    },
    {
     "name": "stdout",
     "output_type": "stream",
     "text": [
      "Validation Accuracy (l1_ratio=1, C=50): 0.9356\n"
     ]
    },
    {
     "name": "stderr",
     "output_type": "stream",
     "text": [
      "c:\\Users\\halhajali\\AppData\\Local\\anaconda3\\Lib\\site-packages\\sklearn\\linear_model\\_sag.py:350: ConvergenceWarning: The max_iter was reached which means the coef_ did not converge\n",
      "  warnings.warn(\n"
     ]
    },
    {
     "name": "stdout",
     "output_type": "stream",
     "text": [
      "Validation Accuracy (l1_ratio=1, C=100): 0.9381\n",
      "Validation Accuracy (l1_ratio=0.7, C=0.1): 0.8787\n",
      "Validation Accuracy (l1_ratio=0.7, C=1): 0.9307\n"
     ]
    },
    {
     "name": "stderr",
     "output_type": "stream",
     "text": [
      "c:\\Users\\halhajali\\AppData\\Local\\anaconda3\\Lib\\site-packages\\sklearn\\linear_model\\_sag.py:350: ConvergenceWarning: The max_iter was reached which means the coef_ did not converge\n",
      "  warnings.warn(\n"
     ]
    },
    {
     "name": "stdout",
     "output_type": "stream",
     "text": [
      "Validation Accuracy (l1_ratio=0.7, C=5): 0.9406\n"
     ]
    },
    {
     "name": "stderr",
     "output_type": "stream",
     "text": [
      "c:\\Users\\halhajali\\AppData\\Local\\anaconda3\\Lib\\site-packages\\sklearn\\linear_model\\_sag.py:350: ConvergenceWarning: The max_iter was reached which means the coef_ did not converge\n",
      "  warnings.warn(\n"
     ]
    },
    {
     "name": "stdout",
     "output_type": "stream",
     "text": [
      "Validation Accuracy (l1_ratio=0.7, C=20): 0.9356\n"
     ]
    },
    {
     "name": "stderr",
     "output_type": "stream",
     "text": [
      "c:\\Users\\halhajali\\AppData\\Local\\anaconda3\\Lib\\site-packages\\sklearn\\linear_model\\_sag.py:350: ConvergenceWarning: The max_iter was reached which means the coef_ did not converge\n",
      "  warnings.warn(\n"
     ]
    },
    {
     "name": "stdout",
     "output_type": "stream",
     "text": [
      "Validation Accuracy (l1_ratio=0.7, C=40): 0.9356\n"
     ]
    },
    {
     "name": "stderr",
     "output_type": "stream",
     "text": [
      "c:\\Users\\halhajali\\AppData\\Local\\anaconda3\\Lib\\site-packages\\sklearn\\linear_model\\_sag.py:350: ConvergenceWarning: The max_iter was reached which means the coef_ did not converge\n",
      "  warnings.warn(\n"
     ]
    },
    {
     "name": "stdout",
     "output_type": "stream",
     "text": [
      "Validation Accuracy (l1_ratio=0.7, C=10): 0.9381\n"
     ]
    },
    {
     "name": "stderr",
     "output_type": "stream",
     "text": [
      "c:\\Users\\halhajali\\AppData\\Local\\anaconda3\\Lib\\site-packages\\sklearn\\linear_model\\_sag.py:350: ConvergenceWarning: The max_iter was reached which means the coef_ did not converge\n",
      "  warnings.warn(\n"
     ]
    },
    {
     "name": "stdout",
     "output_type": "stream",
     "text": [
      "Validation Accuracy (l1_ratio=0.7, C=50): 0.9356\n",
      "Validation Accuracy (l1_ratio=0.7, C=100): 0.9381\n",
      "\n",
      "=== Evaluating Best model ===\n",
      "\n",
      "Best Validation Accuracy: 0.9455445544554455\n",
      "Test Accuracy: 0.9379652605459057\n",
      "\n",
      "Classification Report on Test Set:\n",
      "               precision    recall  f1-score   support\n",
      "\n",
      "           0       0.95      0.92      0.93       135\n",
      "           1       0.90      0.93      0.91       134\n",
      "           2       0.97      0.97      0.97       134\n",
      "\n",
      "    accuracy                           0.94       403\n",
      "   macro avg       0.94      0.94      0.94       403\n",
      "weighted avg       0.94      0.94      0.94       403\n",
      "\n",
      "Best l1_ratio: 1\n",
      "Best C: 5\n",
      "\n",
      "=== Evaluating worst model ===\n",
      "\n",
      "Worst Validation Accuracy: 0.8737623762376238\n",
      "Test Accuracy: 0.8933002481389578\n",
      "Worst l1_ratio: 0.5\n",
      "Worst C: 0.1\n"
     ]
    },
    {
     "name": "stderr",
     "output_type": "stream",
     "text": [
      "c:\\Users\\halhajali\\AppData\\Local\\anaconda3\\Lib\\site-packages\\sklearn\\linear_model\\_sag.py:350: ConvergenceWarning: The max_iter was reached which means the coef_ did not converge\n",
      "  warnings.warn(\n"
     ]
    }
   ],
   "source": [
    "best_val_accuracy = float(\"-inf\")\n",
    "best_model = None\n",
    "worst_val_accuracy = float(\"inf\")\n",
    "worst_model = None\n",
    "worst_l1 = None\n",
    "best_l1 = None\n",
    "best_c  = None\n",
    "worst_c = None\n",
    "for l1_ratio in [0.1, 0.3, 0.5, 1, 0.7]:  \n",
    "    for C in [0.1, 1,5,20,40, 10,50, 100]:  # Different values of the regularization parameter C\n",
    "        model = LogisticRegression(\n",
    "            multi_class='multinomial', \n",
    "            penalty='elasticnet', \n",
    "            solver='saga', \n",
    "            l1_ratio=l1_ratio, \n",
    "            C=C, \n",
    "            max_iter=1000\n",
    "        )\n",
    "        model.fit(X_train_scaled, y_train)\n",
    "\n",
    "        # Validate the model\n",
    "        y_pred_val = model.predict(X_val_scaled)\n",
    "        val_accuracy = accuracy_score(y_val, y_pred_val)\n",
    "\n",
    "        print(f\"Validation Accuracy (l1_ratio={l1_ratio}, C={C}): {val_accuracy:.4f}\")\n",
    "\n",
    "        # Keep the best model based on validation accuracy\n",
    "        if val_accuracy > best_val_accuracy:\n",
    "            best_val_accuracy = val_accuracy\n",
    "            best_model = model\n",
    "            best_l1 = l1_ratio\n",
    "            best_c = C\n",
    "        if val_accuracy < worst_val_accuracy:\n",
    "            worst_val_accuracy = val_accuracy\n",
    "            worst_model = model\n",
    "            worst_l1 = l1_ratio\n",
    "            worst_c = C\n",
    "\n",
    "\n",
    "print(\"\\n=== Evaluating Best model ===\")\n",
    "y_pred_test = best_model.predict(X_test_scaled)\n",
    "print(\"\\nBest Validation Accuracy:\", best_val_accuracy)\n",
    "print(\"Test Accuracy:\", accuracy_score(y_test, y_pred_test))\n",
    "print(\"\\nClassification Report on Test Set:\\n\", classification_report(y_test, y_pred_test))\n",
    "\n",
    "print(\"Best l1_ratio:\", best_l1)\n",
    "print(\"Best C:\", best_c)\n",
    "\n",
    "print(\"\\n=== Evaluating worst model ===\")\n",
    "\n",
    "y_pred_test_worst = worst_model.predict(X_test_scaled)\n",
    "print(\"\\nWorst Validation Accuracy:\", worst_val_accuracy)\n",
    "print(\"Test Accuracy:\", accuracy_score(y_test, y_pred_test_worst))\n",
    "print(\"Worst l1_ratio:\", worst_l1)\n",
    "print(\"Worst C:\", worst_c)\n",
    "\n"
   ]
  },
  {
   "cell_type": "code",
   "execution_count": 114,
   "metadata": {},
   "outputs": [
    {
     "name": "stdout",
     "output_type": "stream",
     "text": [
      "Macro-Averaged F1 Score: 0.9380815955604551\n",
      "Weighted F1 Score: 0.9380673256634506\n",
      "recall 0.9380136355260733\n"
     ]
    },
    {
     "data": {
      "image/png": "[encoded data removed]",
      "text/plain": [
       "<Figure size 800x600 with 1 Axes>"
      ]
     },
     "metadata": {},
     "output_type": "display_data"
    }
   ],
   "source": [
    "from sklearn.metrics import f1_score, recall_score,confusion_matrix\n",
    "import seaborn as sns\n",
    "import matplotlib.pyplot as plt\n",
    "\n",
    "f1_macro = f1_score(y_test, y_pred_test, average='macro')  # Macro-averaged F1-score\n",
    "print(\"Macro-Averaged F1 Score:\", f1_macro)\n",
    "\n",
    "f1_weighted = f1_score(y_test, y_pred_test, average='weighted')  # Weighted F1-score\n",
    "print(\"Weighted F1 Score:\", f1_weighted)\n",
    "\n",
    "recall = recall_score (y_test,y_pred_test, average='macro')\n",
    "print (\"recall\", recall)\n",
    "\n",
    "\n",
    "cm = confusion_matrix(y_test, y_pred_test)\n",
    "\n",
    "xticklabels=['Control','Iron-Early', 'Iron-Late']\n",
    "yticklabels=['Control','Iron-Early', 'Iron-Late']\n",
    "plt.figure(figsize=(8, 6))\n",
    "sns.heatmap(cm, annot=True, fmt='d', cmap='Blues', xticklabels=xticklabels, yticklabels=yticklabels, cbar = False)\n",
    "plt.xlabel('Predicted Labels', fontsize=12, fontweight='bold')\n",
    "plt.ylabel('True Labels', fontsize=12, fontweight='bold')\n",
    "plt.title('Confusion Matrix', fontsize=12, fontweight='bold')\n",
    "for text in plt.gca().texts:\n",
    "    text.set_fontsize(12)\n",
    "    text.set_fontweight('bold')\n",
    "plt.xticks(fontsize=8, fontweight='bold')\n",
    "plt.yticks(fontsize=8, fontweight='bold')\n",
    "plt.show()"
   ]
  },
  {
   "cell_type": "code",
   "execution_count": 115,
   "metadata": {},
   "outputs": [
    {
     "data": {
      "image/png": "[encoded data removed]",
      "text/plain": [
       "<Figure size 700x500 with 2 Axes>"
      ]
     },
     "metadata": {},
     "output_type": "display_data"
    }
   ],
   "source": [
    "import matplotlib.pyplot as plt\n",
    "import numpy as np\n",
    "coefficients_worst = worst_model.coef_[0]\n",
    "coefficients_best = best_model.coef_[0]\n",
    "\n",
    "reshaped_coefficients_worst = np.column_stack((coefficients_worst[:200], coefficients_worst[200:]))\n",
    "reshaped_coefficients_best = np.column_stack((coefficients_best[:200], coefficients_best[200:]))\n",
    "\n",
    "means_worst = np.sum(np.abs(reshaped_coefficients_worst), axis=1)\n",
    "means_best = np.sum(np.abs(reshaped_coefficients_best), axis=1)\n",
    "#means_best = np.sum(reshaped_coefficients_best, axis=1)\n",
    "\n",
    "features_worst = np.abs(coefficients_worst) \n",
    "features_best  = np.abs(coefficients_best)\n",
    "\n",
    "\n",
    "fig, axes = plt.subplots(2, 1, figsize=(7, 5), sharex=True)\n",
    "#fig, ax = plt.subplots(figsize=(7, 5))\n",
    "axes[0].bar(range(200), means_worst, color='r', capsize=4, label=\"Mean ± Std Dev\")\n",
    "axes[0].set_ylabel('Coefficient Value')\n",
    "axes[0].set_title('Worst Model: Weight Distribution of Features')\n",
    "axes[0].axhline(0, color='black', linestyle='--', linewidth=1)\n",
    "axes[0].legend()\n",
    "axes[0].grid(True)\n",
    "\n",
    "# Plot best model coefficients\n",
    "axes[1].bar(range(200), means_best, color='b', capsize=2, label=\"Mean ± Std Dev\")\n",
    "axes[1].set_xlabel('Feature Index')\n",
    "axes[1].set_ylabel('Coefficient Value')\n",
    "axes[1].set_title('Best Model: Weight Distribution of Features')\n",
    "axes[1].axhline(0, color='black', linestyle='--', linewidth=1)\n",
    "axes[1].legend()\n",
    "axes[1].grid(True)\n",
    "\n",
    "# Show plot\n",
    "plt.tight_layout()\n",
    "plt.show()\n"
   ]
  },
  {
   "cell_type": "code",
   "execution_count": 116,
   "metadata": {},
   "outputs": [
    {
     "name": "stdout",
     "output_type": "stream",
     "text": [
      "[  1   0 198 180]\n",
      "[  1   0   3 185]\n"
     ]
    }
   ],
   "source": [
    "reshaped_coefficients_best = np.column_stack((coefficients_best[:200], coefficients_best[200:]))\n",
    "means_best = np.mean(np.abs(reshaped_coefficients_best), axis=1)\n",
    "top_20_indices = np.argsort(means_best, axis=None)[::-1][:4]\n",
    "print(top_20_indices)\n",
    "\n",
    "\n",
    "top_20_indices = np.argsort(means_worst , axis=None)[::-1][:4]\n",
    "print(top_20_indices)\n",
    "\n"
   ]
  }
 ],
 "metadata": {
  "kernelspec": {
   "display_name": "base",
   "language": "python",
   "name": "python3"
  },
  "language_info": {
   "codemirror_mode": {
    "name": "ipython",
    "version": 3
   },
   "file_extension": ".py",
   "mimetype": "text/x-python",
   "name": "python",
   "nbconvert_exporter": "python",
   "pygments_lexer": "ipython3",
   "version": "3.12.4"
  }
 },
 "nbformat": 4,
 "nbformat_minor": 2
}
